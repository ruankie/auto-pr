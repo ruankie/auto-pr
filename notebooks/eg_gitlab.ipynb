{
 "cells": [
  {
   "attachments": {},
   "cell_type": "markdown",
   "metadata": {},
   "source": [
    "# GitLab Example\n",
    "This is an example for a GitLab merge request (MR).\n",
    "\n",
    "**Note:** You must have an open MR on a project for this to work"
   ]
  },
  {
   "cell_type": "code",
   "execution_count": 28,
   "metadata": {},
   "outputs": [],
   "source": [
    "import os\n",
    "import openai\n",
    "from dotenv import load_dotenv\n",
    "from langchain.llms import AzureOpenAI\n",
    "from langchain.chains import LLMChain\n",
    "from src.gitlab import get_mr_commit_history\n",
    "from src.prompt_templates import mr_prompt"
   ]
  },
  {
   "attachments": {},
   "cell_type": "markdown",
   "metadata": {},
   "source": [
    "## Config\n",
    "Set up the config required for connecting to:\n",
    "- Your Azure OpenAI deployment\n",
    "- Your GitLab MR"
   ]
  },
  {
   "cell_type": "code",
   "execution_count": 29,
   "metadata": {},
   "outputs": [],
   "source": [
    "# config\n",
    "load_dotenv()\n",
    "deployment_name = os.getenv(\"DEPLOYMENT_NAME\")\n",
    "project_id = 46068011\n",
    "mr_id = 1"
   ]
  },
  {
   "attachments": {},
   "cell_type": "markdown",
   "metadata": {},
   "source": [
    "## Get MR commit history"
   ]
  },
  {
   "cell_type": "code",
   "execution_count": 30,
   "metadata": {},
   "outputs": [
    {
     "data": {
      "text/plain": [
       "'Add hello.txt\\n- Add punctuation to test file\\n- Add test txt file\\n- Initial commit'"
      ]
     },
     "execution_count": 30,
     "metadata": {},
     "output_type": "execute_result"
    }
   ],
   "source": [
    "commit_list = get_mr_commit_history(\n",
    "    project_id=project_id,\n",
    "    mr_id=mr_id\n",
    ")\n",
    "\n",
    "commit_text = \"\\n- \".join(commit_list)\n",
    "commit_text"
   ]
  },
  {
   "attachments": {},
   "cell_type": "markdown",
   "metadata": {},
   "source": [
    "## Set up LLM chain"
   ]
  },
  {
   "cell_type": "code",
   "execution_count": 31,
   "metadata": {},
   "outputs": [],
   "source": [
    "# create LLM object\n",
    "llm = AzureOpenAI(\n",
    "    deployment_name=deployment_name,\n",
    "    model_name=\"text-davinci-003\",\n",
    "    temperature=0.9\n",
    ")"
   ]
  },
  {
   "cell_type": "code",
   "execution_count": 32,
   "metadata": {},
   "outputs": [],
   "source": [
    "# add prompt template\n",
    "llm_chain = LLMChain(\n",
    "    llm=llm,\n",
    "    prompt=mr_prompt\n",
    ")"
   ]
  },
  {
   "attachments": {},
   "cell_type": "markdown",
   "metadata": {},
   "source": [
    "## Get MR message"
   ]
  },
  {
   "cell_type": "code",
   "execution_count": 33,
   "metadata": {},
   "outputs": [],
   "source": [
    "# set format of MR message\n",
    "mr_format = \"\"\"\n",
    "# Overview\n",
    "<Give a short overview here>\n",
    "\n",
    "# Changes\n",
    "<List all the changes here>\n",
    "\"\"\""
   ]
  },
  {
   "cell_type": "code",
   "execution_count": 40,
   "metadata": {},
   "outputs": [],
   "source": [
    "# get LLM response\n",
    "response = llm_chain.run({\"commits\": commit_text, \"format\": mr_format})"
   ]
  },
  {
   "cell_type": "code",
   "execution_count": 41,
   "metadata": {},
   "outputs": [
    {
     "name": "stdout",
     "output_type": "stream",
     "text": [
      "# Overview\n",
      "This pull request adds hello.txt, adds punctuation to the test file, and adds a test txt file.\n",
      "\n",
      "# Changes\n",
      "- Added hello.txt\n",
      "- Added punctuation to test file\n",
      "- Added test txt file\n",
      "- Initial commit\n"
     ]
    }
   ],
   "source": [
    "print(response.strip())"
   ]
  },
  {
   "cell_type": "code",
   "execution_count": null,
   "metadata": {},
   "outputs": [],
   "source": []
  }
 ],
 "metadata": {
  "kernelspec": {
   "display_name": "src-LzbLtsRC-py3.11",
   "language": "python",
   "name": "python3"
  },
  "language_info": {
   "codemirror_mode": {
    "name": "ipython",
    "version": 3
   },
   "file_extension": ".py",
   "mimetype": "text/x-python",
   "name": "python",
   "nbconvert_exporter": "python",
   "pygments_lexer": "ipython3",
   "version": "3.11.2"
  },
  "orig_nbformat": 4
 },
 "nbformat": 4,
 "nbformat_minor": 2
}
